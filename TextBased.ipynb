{
  "nbformat": 4,
  "nbformat_minor": 0,
  "metadata": {
    "colab": {
      "provenance": []
    },
    "kernelspec": {
      "name": "python3",
      "display_name": "Python 3"
    },
    "language_info": {
      "name": "python"
    }
  },
  "cells": [
    {
      "cell_type": "markdown",
      "source": [
        "// Teachable Machine Example 1: Hand Gesture Recognition (Image-Based)\n",
        "// Uses TensorFlow.js to run a trained model in the browser"
      ],
      "metadata": {
        "id": "JhS8zpwUv92D"
      }
    },
    {
      "cell_type": "code",
      "source": [
        "const URL = \"https://teachablemachine.withgoogle.com/models/YOUR_MODEL_ID/\";\n",
        "let model, webcam, labelContainer, maxPredictions;\n",
        "\n",
        "async function init() {\n",
        "    const modelURL = URL + \"model.json\";\n",
        "    const metadataURL = URL + \"metadata.json\";\n",
        "\n",
        "    model = await tmImage.load(modelURL, metadataURL);\n",
        "    maxPredictions = model.getTotalClasses();\n",
        "\n",
        "    const flip = true;\n",
        "    webcam = new tmImage.Webcam(200, 200, flip);\n",
        "    await webcam.setup();\n",
        "    await webcam.play();\n",
        "    window.requestAnimationFrame(loop);\n",
        "\n",
        "    document.getElementById(\"webcam-container\").appendChild(webcam.canvas);\n",
        "    labelContainer = document.getElementById(\"label-container\");\n",
        "    for (let i = 0; i < maxPredictions; i++) {\n",
        "        labelContainer.appendChild(document.createElement(\"div\"));\n",
        "    }\n",
        "}\n",
        "\n",
        "async function loop() {\n",
        "    webcam.update();\n",
        "    await predict();\n",
        "    window.requestAnimationFrame(loop);\n",
        "}\n",
        "\n",
        "async function predict() {\n",
        "    const prediction = await model.predict(webcam.canvas);\n",
        "    for (let i = 0; i < maxPredictions; i++) {\n",
        "        const classPrediction = prediction[i].className + \": \" + prediction[i].probability.toFixed(2);\n",
        "        labelContainer.childNodes[i].innerHTML = classPrediction;\n",
        "    }\n",
        "}\n",
        "init()\n",
        "\n",
        "\n"
      ],
      "metadata": {
        "id": "-5426BYzrUi0"
      },
      "execution_count": null,
      "outputs": []
    },
    {
      "cell_type": "markdown",
      "source": [
        "#Teachable Machine Example 2: Sentiment Analysis (Text-Based)"
      ],
      "metadata": {
        "id": "4oRgI04yv4XM"
      }
    },
    {
      "cell_type": "code",
      "source": [
        "async function analyzeSentiment(inputText) {\n",
        "    const modelURL = \"https://teachablemachine.withgoogle.com/models/YOUR_MODEL_ID/model.json\";\n",
        "    const model = await tmText.load(modelURL);\n",
        "    const prediction = await model.predict(inputText);\n",
        "\n",
        "    prediction.sort((a, b) => b.probability - a.probability);\n",
        "    return prediction[0].className;\n",
        "}\n",
        "\n",
        "document.getElementById(\"analyze-button\").addEventListener(\"click\", async () => {\n",
        "    const textInput = document.getElementById(\"text-input\").value;\n",
        "    const result = await analyzeSentiment(textInput);\n",
        "    document.getElementById(\"result\").innerText = \"Sentiment: \" + result;\n",
        "});"
      ],
      "metadata": {
        "id": "ozmGStbJvtKl"
      },
      "execution_count": null,
      "outputs": []
    },
    {
      "cell_type": "markdown",
      "source": [
        "#Workout Form Correction (Video-Based)"
      ],
      "metadata": {
        "id": "C6ZDsP1cvzRN"
      }
    },
    {
      "cell_type": "code",
      "source": [
        "const poseModelURL = \"https://teachablemachine.withgoogle.com/models/YOUR_MODEL_ID/\";\n",
        "let poseModel;\n",
        "\n",
        "async function loadPoseModel() {\n",
        "    poseModel = await tmPose.load(poseModelURL + \"model.json\", poseModelURL + \"metadata.json\");\n",
        "}\n",
        "\n",
        "async function detectPose(videoElement) {\n",
        "    const { pose, posenetOutput } = await poseModel.estimatePose(videoElement);\n",
        "    return pose;\n",
        "}\n",
        "\n",
        "async function analyzeWorkout(videoElement) {\n",
        "    const pose = await detectPose(videoElement);\n",
        "    if (pose.score > 0.5) {\n",
        "        document.getElementById(\"pose-result\").innerText = \"Good Form!\";\n",
        "    } else {\n",
        "        document.getElementById(\"pose-result\").innerText = \"Adjust Your Posture!\";\n",
        "    }\n",
        "}\n",
        "\n",
        "// Attach `loadPoseModel()` and `analyzeWorkout()` to your UI to run the analysis.\n"
      ],
      "metadata": {
        "id": "coB_QaAVvvVX"
      },
      "execution_count": null,
      "outputs": []
    }
  ]
}